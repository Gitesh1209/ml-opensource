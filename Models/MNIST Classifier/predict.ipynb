{
 "cells": [
  {
   "cell_type": "code",
   "execution_count": 1,
   "metadata": {},
   "outputs": [],
   "source": [
    "import PIL.ImageOps\n",
    "from PIL import Image\n",
    "from IPython.core.interactiveshell import InteractiveShell\n",
    "import numpy as np\n",
    "import pandas as pd\n",
    "import seaborn as sns\n",
    "import matplotlib.pyplot as plt\n",
    "from IPython import get_ipython\n",
    "import pickle as cPickle"
   ]
  },
  {
   "cell_type": "code",
   "execution_count": 2,
   "metadata": {},
   "outputs": [],
   "source": [
    "get_ipython().run_line_magic('matplotlib', 'inline')\n",
    "InteractiveShell.ast_node_interactivity = \"all\"\n",
    "\n",
    "# load the model from disk\n",
    "model_name = 'finalized_model2.sav'\n",
    "loaded_model = cPickle.load(open(model_name, 'rb'))\n"
   ]
  },
  {
   "cell_type": "code",
   "execution_count": 3,
   "metadata": {},
   "outputs": [
    {
     "data": {
      "image/png": "[encoded data removed]",
      "text/plain": [
       "<Figure size 432x288 with 1 Axes>"
      ]
     },
     "metadata": {},
     "output_type": "display_data"
    }
   ],
   "source": [
    "filename = '2.png'\n",
    "\n",
    "image = Image.open(filename)\n",
    "p = plt.imshow(np.asarray(image), cmap=plt.cm.gray,)\n",
    "p = plt.title('Shape: ' + str(np.asarray(image).shape))"
   ]
  },
  {
   "cell_type": "code",
   "execution_count": 4,
   "metadata": {},
   "outputs": [
    {
     "data": {
      "image/png": "[encoded data removed]",
      "text/plain": [
       "<Figure size 432x288 with 1 Axes>"
      ]
     },
     "metadata": {},
     "output_type": "display_data"
    }
   ],
   "source": [
    "# convert to grayscale image - 'L' format means each pixel is\n",
    "# represented by a single value from 0 to 255\n",
    "image_bw = image.convert('L')\n",
    "p = plt.imshow(np.asarray(image_bw), cmap=plt.cm.gray,)\n",
    "p = plt.title('Shape: ' + str(np.asarray(image_bw).shape))\n",
    "# resize image\n",
    "image_bw_resized = image_bw.resize((28, 28), Image.ANTIALIAS)\n",
    "p = plt.imshow(np.asarray(image_bw_resized), cmap=plt.cm.gray,)\n",
    "p = plt.title('Shape: ' + str(np.asarray(image_bw_resized).shape))"
   ]
  },
  {
   "cell_type": "code",
   "execution_count": 5,
   "metadata": {},
   "outputs": [
    {
     "data": {
      "image/png": "[encoded data removed]",
      "text/plain": [
       "<Figure size 432x288 with 1 Axes>"
      ]
     },
     "metadata": {},
     "output_type": "display_data"
    }
   ],
   "source": [
    "# invert image, to match training data\n",
    "\n",
    "image_bw_resized_inverted = PIL.ImageOps.invert(image_bw_resized)\n",
    "p = plt.imshow(np.asarray(image_bw_resized_inverted), cmap=plt.cm.gray,)\n",
    "p = plt.title('Shape: ' + str(np.asarray(image_bw_resized_inverted).shape))\n",
    "\n",
    "# adjust contrast and scale\n",
    "pixel_filter = 20  # value from 0 to 100 - may need to adjust this manually\n",
    "min_pixel = np.percentile(image_bw_resized_inverted, pixel_filter)\n",
    "image_bw_resized_inverted_scaled = np.clip(\n",
    "    image_bw_resized_inverted-min_pixel, 0, 255)\n",
    "max_pixel = np.max(image_bw_resized_inverted)\n",
    "image_bw_resized_inverted_scaled = np.asarray(\n",
    "    image_bw_resized_inverted_scaled)/max_pixel\n",
    "p = plt.imshow(np.asarray(image_bw_resized_inverted_scaled), cmap=plt.cm.gray,)\n",
    "p = plt.title(\n",
    "    'Shape: ' + str(np.asarray(image_bw_resized_inverted_scaled).shape))\n",
    "\n",
    "# finally, reshape to (1, 784) - 1 sample, 784 features\n",
    "test_sample = np.array(image_bw_resized_inverted_scaled).reshape(1, 784)\n",
    "p = plt.imshow(np.reshape(test_sample, (28, 28)), cmap=plt.cm.gray,)\n",
    "p = plt.title('Shape: ' + str(test_sample.shape))\n",
    "p = plt.imshow(np.reshape(test_sample, (28, 28)), cmap=plt.cm.gray,)\n",
    "p = plt.title('Shape: ' + str(test_sample.shape))"
   ]
  },
  {
   "cell_type": "code",
   "execution_count": 6,
   "metadata": {},
   "outputs": [
    {
     "name": "stdout",
     "output_type": "stream",
     "text": [
      "Predicted class is:  ['2']\n"
     ]
    }
   ],
   "source": [
    "test_pred = loaded_model.predict(test_sample)\n",
    "print(\"Predicted class is: \", test_pred)"
   ]
  }
 ],
 "metadata": {
  "kernelspec": {
   "display_name": "Python 3",
   "language": "python",
   "name": "python3"
  },
  "language_info": {
   "codemirror_mode": {
    "name": "ipython",
    "version": 3
   },
   "file_extension": ".py",
   "mimetype": "text/x-python",
   "name": "python",
   "nbconvert_exporter": "python",
   "pygments_lexer": "ipython3",
   "version": "3.6.10"
  }
 },
 "nbformat": 4,
 "nbformat_minor": 2
}
